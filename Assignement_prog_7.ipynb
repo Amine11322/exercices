{
  "nbformat": 4,
  "nbformat_minor": 0,
  "metadata": {
    "colab": {
      "name": "Assignement_prog_7.ipynb",
      "provenance": [],
      "authorship_tag": "ABX9TyOUfqRcwc8iIHGRvFJm/Q6M",
      "include_colab_link": true
    },
    "kernelspec": {
      "name": "python3",
      "display_name": "Python 3"
    },
    "language_info": {
      "name": "python"
    }
  },
  "cells": [
    {
      "cell_type": "markdown",
      "metadata": {
        "id": "view-in-github",
        "colab_type": "text"
      },
      "source": [
        "<a href=\"https://colab.research.google.com/github/Amine11322/exercices/blob/main/Assignement_prog_7.ipynb\" target=\"_parent\"><img src=\"https://colab.research.google.com/assets/colab-badge.svg\" alt=\"Open In Colab\"/></a>"
      ]
    },
    {
      "cell_type": "markdown",
      "metadata": {
        "id": "Umxe4A5I2Qsx"
      },
      "source": [
        "1. Write a Python Program to find sum of array?\n",
        "2. Write a Python Program to find largest element in an array?\n",
        "3. Write a Python Program for array rotation?\n",
        "4. Write a Python Program to Split the array and add the first part to the end?\n",
        "5. Write a Python Program to check if given array is Monotonic?"
      ]
    },
    {
      "cell_type": "code",
      "metadata": {
        "id": "31rm3JKc3Bv-"
      },
      "source": [
        "#The array I will work with\n",
        "l = [1,2,4,6,7,8]\n"
      ],
      "execution_count": 30,
      "outputs": []
    },
    {
      "cell_type": "code",
      "metadata": {
        "colab": {
          "base_uri": "https://localhost:8080/"
        },
        "id": "N7v2WgE265IJ",
        "outputId": "b39623c8-4647-4798-e38b-9b1cb0e08661"
      },
      "source": [
        "for i in range(len(l) - 1):\n",
        "  print(i)"
      ],
      "execution_count": 44,
      "outputs": [
        {
          "output_type": "stream",
          "text": [
            "0\n",
            "1\n",
            "2\n",
            "3\n",
            "4\n"
          ],
          "name": "stdout"
        }
      ]
    },
    {
      "cell_type": "code",
      "metadata": {
        "colab": {
          "base_uri": "https://localhost:8080/"
        },
        "id": "eVk8pT0y58zc",
        "outputId": "e8a17cce-db53-4d1a-af06-60fe63fbb3b4"
      },
      "source": [
        "# array is Monotonic\n",
        "for i in range(len(l) - 1):\n",
        "  for j in range(len(l) - 1):\n",
        "    if i <= j and l[i]<=l[j]:\n",
        "      print(\"True\")\n",
        "    \n",
        "    else:\n",
        "      print(\"False\") \n",
        "  \n",
        "  \n",
        "    "
      ],
      "execution_count": 40,
      "outputs": [
        {
          "output_type": "stream",
          "text": [
            "True\n",
            "True\n",
            "True\n",
            "True\n",
            "True\n",
            "False\n",
            "True\n",
            "True\n",
            "True\n",
            "True\n",
            "False\n",
            "False\n",
            "True\n",
            "True\n",
            "True\n",
            "False\n",
            "False\n",
            "False\n",
            "True\n",
            "True\n",
            "False\n",
            "False\n",
            "False\n",
            "False\n",
            "True\n"
          ],
          "name": "stdout"
        }
      ]
    },
    {
      "cell_type": "code",
      "metadata": {
        "colab": {
          "base_uri": "https://localhost:8080/"
        },
        "id": "BdY5YA6G5guj",
        "outputId": "b5306ecf-c071-49f4-e8ed-d3ccc0464c7c"
      },
      "source": [
        "len(l)"
      ],
      "execution_count": 31,
      "outputs": [
        {
          "output_type": "execute_result",
          "data": {
            "text/plain": [
              "6"
            ]
          },
          "metadata": {
            "tags": []
          },
          "execution_count": 31
        }
      ]
    },
    {
      "cell_type": "code",
      "metadata": {
        "colab": {
          "base_uri": "https://localhost:8080/"
        },
        "id": "jySqhz415whh",
        "outputId": "1be67ea1-62fa-4e35-ce48-be5ee5d5cd40"
      },
      "source": [
        "#Split the array and add the first part to the end\n",
        "new= l[0:len(l)//2]\n",
        "l + new"
      ],
      "execution_count": 34,
      "outputs": [
        {
          "output_type": "execute_result",
          "data": {
            "text/plain": [
              "[1, 2, 4, 6, 7, 8, 1, 2, 4]"
            ]
          },
          "metadata": {
            "tags": []
          },
          "execution_count": 34
        }
      ]
    },
    {
      "cell_type": "code",
      "metadata": {
        "id": "sybVukay5dn6"
      },
      "source": [
        ""
      ],
      "execution_count": 33,
      "outputs": []
    },
    {
      "cell_type": "code",
      "metadata": {
        "id": "qW7uZtkt0nNP"
      },
      "source": [
        "#sum of array\n",
        "def sum_arra(l):\n",
        "  tot = 0\n",
        "  for i in l:\n",
        "    tot += i\n",
        "\n",
        "  return tot  "
      ],
      "execution_count": 21,
      "outputs": []
    },
    {
      "cell_type": "code",
      "metadata": {
        "colab": {
          "base_uri": "https://localhost:8080/"
        },
        "id": "zUK39iWa3ZDr",
        "outputId": "26ec9475-402b-4ff0-9ba2-984c9b26ea8b"
      },
      "source": [
        "sum_arra(l)"
      ],
      "execution_count": 22,
      "outputs": [
        {
          "output_type": "execute_result",
          "data": {
            "text/plain": [
              "20"
            ]
          },
          "metadata": {
            "tags": []
          },
          "execution_count": 22
        }
      ]
    },
    {
      "cell_type": "code",
      "metadata": {
        "id": "uBHIzMno3bAW"
      },
      "source": [
        "#largest element\n",
        "def large(n):\n",
        "  return max(l)"
      ],
      "execution_count": 23,
      "outputs": []
    },
    {
      "cell_type": "code",
      "metadata": {
        "colab": {
          "base_uri": "https://localhost:8080/"
        },
        "id": "P4GDkfRc4svQ",
        "outputId": "a9f9d55d-ca94-4c61-bfee-850aa08ae945"
      },
      "source": [
        "large(l)"
      ],
      "execution_count": 24,
      "outputs": [
        {
          "output_type": "execute_result",
          "data": {
            "text/plain": [
              "7"
            ]
          },
          "metadata": {
            "tags": []
          },
          "execution_count": 24
        }
      ]
    },
    {
      "cell_type": "code",
      "metadata": {
        "id": "l_v9aw-f4uSi"
      },
      "source": [
        "#rotation\n",
        "l.reverse()"
      ],
      "execution_count": 27,
      "outputs": []
    },
    {
      "cell_type": "code",
      "metadata": {
        "colab": {
          "base_uri": "https://localhost:8080/"
        },
        "id": "n4Ij0C_b4-rI",
        "outputId": "13c29917-941e-493e-dc5c-fb93a0be78a6"
      },
      "source": [
        "l"
      ],
      "execution_count": 28,
      "outputs": [
        {
          "output_type": "execute_result",
          "data": {
            "text/plain": [
              "[7, 6, 4, 2, 1]"
            ]
          },
          "metadata": {
            "tags": []
          },
          "execution_count": 28
        }
      ]
    },
    {
      "cell_type": "code",
      "metadata": {
        "id": "Hn_sUrOd5FFD"
      },
      "source": [
        ""
      ],
      "execution_count": null,
      "outputs": []
    }
  ]
}