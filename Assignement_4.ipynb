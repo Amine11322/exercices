{
  "nbformat": 4,
  "nbformat_minor": 0,
  "metadata": {
    "colab": {
      "name": "Assignement_4.ipynb",
      "provenance": [],
      "authorship_tag": "ABX9TyP2ARdtbS3Le35L6Nj/e3zE",
      "include_colab_link": true
    },
    "kernelspec": {
      "name": "python3",
      "display_name": "Python 3"
    }
  },
  "cells": [
    {
      "cell_type": "markdown",
      "metadata": {
        "id": "view-in-github",
        "colab_type": "text"
      },
      "source": [
        "<a href=\"https://colab.research.google.com/github/Amine11322/exercices/blob/main/Assignement_4.ipynb\" target=\"_parent\"><img src=\"https://colab.research.google.com/assets/colab-badge.svg\" alt=\"Open In Colab\"/></a>"
      ]
    },
    {
      "cell_type": "markdown",
      "metadata": {
        "id": "83bEme-PLadJ"
      },
      "source": [
        "1. Write a Python Program to Find the Factorial of a Number?\n",
        "2. Write a Python Program to Display the multiplication Table?\n",
        "3. Write a Python Program to Print the Fibonacci sequence?\n",
        "4. Write a Python Program to Check Armstrong Number?\n",
        "5. Write a Python Program to Find Armstrong Number in an Interval?\n",
        "6. Write a Python Program to Find the Sum of Natural Numbers?\n"
      ]
    },
    {
      "cell_type": "markdown",
      "metadata": {
        "id": "HcUyebhNi8L5"
      },
      "source": [
        "# Armstrong check"
      ]
    },
    {
      "cell_type": "code",
      "metadata": {
        "id": "vlFa0fAXgrQC"
      },
      "source": [
        "def arm_check(st):\n",
        "  lem = len(st)\n",
        "  n = int(st)\n",
        "  tot = 0\n",
        "  num = n\n",
        "  while n > 0:\n",
        "    d = n % 10\n",
        "    tot = tot + (d**lem)\n",
        "    n = int(n /10)  \n",
        "  if num == tot:\n",
        "    return True \n",
        "  else:\n",
        "    return False \n"
      ],
      "execution_count": null,
      "outputs": []
    },
    {
      "cell_type": "code",
      "metadata": {
        "colab": {
          "base_uri": "https://localhost:8080/"
        },
        "id": "PI6Erl3jjsQ0",
        "outputId": "8b8326f8-641a-4f94-a921-b850ec63fcc5"
      },
      "source": [
        "3/10\n"
      ],
      "execution_count": null,
      "outputs": [
        {
          "output_type": "execute_result",
          "data": {
            "text/plain": [
              "0.3"
            ]
          },
          "metadata": {
            "tags": []
          },
          "execution_count": 27
        }
      ]
    },
    {
      "cell_type": "code",
      "metadata": {
        "colab": {
          "base_uri": "https://localhost:8080/"
        },
        "id": "vJKxfaGfhFRD",
        "outputId": "eb13ad87-6c41-4135-ef9a-dea2fd088a55"
      },
      "source": [
        "arm_check('153')"
      ],
      "execution_count": null,
      "outputs": [
        {
          "output_type": "execute_result",
          "data": {
            "text/plain": [
              "True"
            ]
          },
          "metadata": {
            "tags": []
          },
          "execution_count": 24
        }
      ]
    },
    {
      "cell_type": "markdown",
      "metadata": {
        "id": "4NL9EuMPi0tx"
      },
      "source": [
        "# Armstrong Find"
      ]
    },
    {
      "cell_type": "code",
      "metadata": {
        "colab": {
          "base_uri": "https://localhost:8080/"
        },
        "id": "VltK1eenfFKO",
        "outputId": "01455b74-f774-491c-c319-1f5aececbde4"
      },
      "source": [
        "\n",
        "lower = 100\n",
        "upper = 2000\n",
        "\n",
        "for num in range(lower, upper + 1):\n",
        "\n",
        "   # order of number\n",
        "   order = len(str(num))\n",
        "    \n",
        "   # initialize sum\n",
        "   sum = 0\n",
        "\n",
        "   temp = num\n",
        "   while temp > 0:\n",
        "       digit = temp % 10\n",
        "       sum = sum + digit ** order\n",
        "       temp //= 10\n",
        "\n",
        "   if num == sum:\n",
        "       print(num)\n"
      ],
      "execution_count": null,
      "outputs": [
        {
          "output_type": "stream",
          "text": [
            "153\n",
            "370\n",
            "371\n",
            "407\n",
            "1634\n"
          ],
          "name": "stdout"
        }
      ]
    },
    {
      "cell_type": "markdown",
      "metadata": {
        "id": "IBRIk-eyiwpJ"
      },
      "source": [
        "# Natural numb sum"
      ]
    },
    {
      "cell_type": "code",
      "metadata": {
        "id": "wzc1vOwtnvi5"
      },
      "source": [
        "def summm(n):\n",
        "  return n*(n-1)// 2"
      ],
      "execution_count": null,
      "outputs": []
    },
    {
      "cell_type": "markdown",
      "metadata": {
        "id": "ptetEWywit9J"
      },
      "source": [
        "# Factorial"
      ]
    },
    {
      "cell_type": "code",
      "metadata": {
        "id": "YJk1sQkYMnag"
      },
      "source": [
        "def factorial(n):\n",
        "\n",
        "  for i in range(1,n):\n",
        "    i =i*n\n",
        "\n",
        "  return(i) \n",
        " "
      ],
      "execution_count": null,
      "outputs": []
    },
    {
      "cell_type": "markdown",
      "metadata": {
        "id": "lRdWcy0mipXI"
      },
      "source": [
        "# table multiplication"
      ]
    },
    {
      "cell_type": "code",
      "metadata": {
        "colab": {
          "base_uri": "https://localhost:8080/"
        },
        "id": "BCDZdp7-Ubh0",
        "outputId": "f3f4ce19-fc05-4f61-d93a-9d9ad45c4890"
      },
      "source": [
        "def table_multi(n):\n",
        "\n",
        "  for i in range(0,11):\n",
        "\n",
        "    print(n ,'*', i,'=',i*n)"
      ],
      "execution_count": null,
      "outputs": [
        {
          "output_type": "stream",
          "text": [
            "6 * 0 = 0\n",
            "6 * 1 = 6\n",
            "6 * 2 = 12\n",
            "6 * 3 = 18\n",
            "6 * 4 = 24\n",
            "6 * 5 = 30\n",
            "6 * 6 = 36\n",
            "6 * 7 = 42\n",
            "6 * 8 = 48\n",
            "6 * 9 = 54\n",
            "6 * 10 = 60\n"
          ],
          "name": "stdout"
        }
      ]
    },
    {
      "cell_type": "markdown",
      "metadata": {
        "id": "W5mFAWk3il8Q"
      },
      "source": [
        "# Fibanocci"
      ]
    },
    {
      "cell_type": "code",
      "metadata": {
        "colab": {
          "base_uri": "https://localhost:8080/"
        },
        "id": "3GepPqFRTySV",
        "outputId": "bd6029cf-b5f3-41fb-8880-1fa0370f87cc"
      },
      "source": [
        "\n",
        "n = int(input(\"enter a number\"))\n",
        "a,b = 0,1\n",
        "while b<n:\n",
        "  print(b)\n",
        "  a,b = b,a+b\n"
      ],
      "execution_count": null,
      "outputs": [
        {
          "output_type": "stream",
          "text": [
            "enter a number30\n",
            "1\n",
            "1\n",
            "2\n",
            "3\n",
            "5\n",
            "8\n",
            "13\n",
            "21\n"
          ],
          "name": "stdout"
        }
      ]
    },
    {
      "cell_type": "code",
      "metadata": {
        "id": "PNl04O8rbImO"
      },
      "source": [
        ""
      ],
      "execution_count": null,
      "outputs": []
    }
  ]
}