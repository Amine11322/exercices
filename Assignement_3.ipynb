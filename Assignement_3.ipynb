{
  "nbformat": 4,
  "nbformat_minor": 0,
  "metadata": {
    "colab": {
      "name": "Assignement_3.ipynb",
      "provenance": [],
      "authorship_tag": "ABX9TyN+Kg2m76c/4+lzwekkEiLn",
      "include_colab_link": true
    },
    "kernelspec": {
      "name": "python3",
      "display_name": "Python 3"
    }
  },
  "cells": [
    {
      "cell_type": "markdown",
      "metadata": {
        "id": "view-in-github",
        "colab_type": "text"
      },
      "source": [
        "<a href=\"https://colab.research.google.com/github/Amine11322/exercices/blob/main/Assignement_3.ipynb\" target=\"_parent\"><img src=\"https://colab.research.google.com/assets/colab-badge.svg\" alt=\"Open In Colab\"/></a>"
      ]
    },
    {
      "cell_type": "code",
      "metadata": {
        "id": "PNl04O8rbImO",
        "colab": {
          "base_uri": "https://localhost:8080/"
        },
        "outputId": "fa499144-ae41-4167-dd0b-ca87240ced45"
      },
      "source": [
        "integer = float(input(\"enter a number\"))\n",
        "if integer > 0:\n",
        "  print(\"Positive n_\")\n",
        "else:\n",
        "  print(\"Negative n_\")  "
      ],
      "execution_count": 7,
      "outputs": [
        {
          "output_type": "stream",
          "text": [
            "enter a number-43\n",
            "Negative n_\n"
          ],
          "name": "stdout"
        }
      ]
    },
    {
      "cell_type": "code",
      "metadata": {
        "colab": {
          "base_uri": "https://localhost:8080/"
        },
        "id": "jN6f4-Q5p7SR",
        "outputId": "893c2087-fa4c-415f-c085-49e220989bff"
      },
      "source": [
        "#Number is Odd or Even?\n",
        "integer = float(input(\"enter a number\"))\n",
        "if integer % 2 == 0:\n",
        "  print(\"Even num\")\n",
        "\n",
        "else:\n",
        "  print(\"Odd n_\")  "
      ],
      "execution_count": 24,
      "outputs": [
        {
          "output_type": "stream",
          "text": [
            "enter a number4\n",
            "Even num\n"
          ],
          "name": "stdout"
        }
      ]
    },
    {
      "cell_type": "code",
      "metadata": {
        "id": "xhtnRMXA0nC5"
      },
      "source": [
        "def prime(n):\n",
        "\n",
        "  for i in range(2,n):\n",
        "\n",
        "    if n % i == 0:\n",
        "\n",
        "      print(\"not prime\")\n",
        "      break\n",
        "\n",
        "    else:\n",
        "      print(\"its prime\")\n",
        "      break  "
      ],
      "execution_count": 71,
      "outputs": []
    },
    {
      "cell_type": "code",
      "metadata": {
        "colab": {
          "base_uri": "https://localhost:8080/"
        },
        "id": "UHXG0CRu01sz",
        "outputId": "1726c149-c5c9-41b5-f768-d3c07bd48c14"
      },
      "source": [
        "prime(907)"
      ],
      "execution_count": 72,
      "outputs": [
        {
          "output_type": "stream",
          "text": [
            "its prime\n"
          ],
          "name": "stdout"
        }
      ]
    },
    {
      "cell_type": "code",
      "metadata": {
        "colab": {
          "base_uri": "https://localhost:8080/"
        },
        "id": "h_8TvCwEt3LJ",
        "outputId": "7fda9e6c-f80f-4c39-c686-2e0bcf954db1"
      },
      "source": [
        "lower = 900\n",
        "upper = 1000\n",
        "\n",
        "for num in range(lower, upper+1):\n",
        "  if num>1:\n",
        "\n",
        "    for i in range(2,num):\n",
        "      if num % i ==0:\n",
        "        break\n",
        "    else:\n",
        "        print(num)\n",
        "       \n",
        "       \n",
        "          "
      ],
      "execution_count": 64,
      "outputs": [
        {
          "output_type": "stream",
          "text": [
            "907\n",
            "911\n",
            "919\n",
            "929\n",
            "937\n",
            "941\n",
            "947\n",
            "953\n",
            "967\n",
            "971\n",
            "977\n",
            "983\n",
            "991\n",
            "997\n"
          ],
          "name": "stdout"
        }
      ]
    },
    {
      "cell_type": "code",
      "metadata": {
        "colab": {
          "base_uri": "https://localhost:8080/"
        },
        "id": "NEusd2jry5uJ",
        "outputId": "c65820f8-a764-427c-82e6-9b59ff0eaf09"
      },
      "source": [
        "year = 2000\n",
        "\n",
        "# To get year (integer input) from the user\n",
        "# year = int(input(\"Enter a year: \"))\n",
        "\n",
        "if (year % 4) == 0:\n",
        "   if (year % 100) == 0:\n",
        "       if (year % 400) == 0:\n",
        "           print(\"{0} is a leap year\".format(year))\n",
        "       else:\n",
        "           print(\"{0} is not a leap year\".format(year))\n",
        "   else:\n",
        "       print(\"{0} is a leap year\".format(year))\n",
        "else:\n",
        "   print(\"{0} is not a leap year\".format(year))"
      ],
      "execution_count": 61,
      "outputs": [
        {
          "output_type": "stream",
          "text": [
            "2000 is a leap year\n"
          ],
          "name": "stdout"
        }
      ]
    },
    {
      "cell_type": "code",
      "metadata": {
        "id": "fAOmvCJZz8ED"
      },
      "source": [
        ""
      ],
      "execution_count": null,
      "outputs": []
    }
  ]
}