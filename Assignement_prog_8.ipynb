{
  "nbformat": 4,
  "nbformat_minor": 0,
  "metadata": {
    "colab": {
      "name": "Assignement_prog_8.ipynb",
      "provenance": [],
      "authorship_tag": "ABX9TyO6tYguR6bl2TWWFqkfSjNL",
      "include_colab_link": true
    },
    "kernelspec": {
      "name": "python3",
      "display_name": "Python 3"
    },
    "language_info": {
      "name": "python"
    }
  },
  "cells": [
    {
      "cell_type": "markdown",
      "metadata": {
        "id": "view-in-github",
        "colab_type": "text"
      },
      "source": [
        "<a href=\"https://colab.research.google.com/github/Amine11322/exercices/blob/main/Assignement_prog_8.ipynb\" target=\"_parent\"><img src=\"https://colab.research.google.com/assets/colab-badge.svg\" alt=\"Open In Colab\"/></a>"
      ]
    },
    {
      "cell_type": "code",
      "metadata": {
        "id": "M_51V23PAHhW"
      },
      "source": [
        "X = [[1,2,3],[2,3,45],[21,3,4]]\n",
        "X_1 = [[145,23,23],[2,3,45],[21,3,4]]\n"
      ],
      "execution_count": 2,
      "outputs": []
    },
    {
      "cell_type": "markdown",
      "metadata": {
        "id": "xAoGKY_8KIyP"
      },
      "source": [
        "Program to Add Two Matrices? "
      ]
    },
    {
      "cell_type": "code",
      "metadata": {
        "colab": {
          "base_uri": "https://localhost:8080/"
        },
        "id": "agJaMdFuApRn",
        "outputId": "7e446357-2982-4289-adca-649202848929"
      },
      "source": [
        "result = [[0,0,0],[0,0,0],[0,0,0]]\n",
        "\n",
        "for i in range(len(X)):\n",
        "  for j in range(len(X[0])):\n",
        "    result[i][j] = X[i][j]+X_1[i][j]\n",
        "for r in result:\n",
        "  print(r)    "
      ],
      "execution_count": null,
      "outputs": [
        {
          "output_type": "stream",
          "text": [
            "[146, 25, 26]\n",
            "[4, 6, 90]\n",
            "[42, 6, 8]\n"
          ],
          "name": "stdout"
        }
      ]
    },
    {
      "cell_type": "markdown",
      "metadata": {
        "id": "1AxtGA_9KRkv"
      },
      "source": [
        "Program to multiply two Matrices?"
      ]
    },
    {
      "cell_type": "code",
      "metadata": {
        "colab": {
          "base_uri": "https://localhost:8080/"
        },
        "id": "JAJduMQnBlK4",
        "outputId": "4f51ce1b-4681-4db6-841b-40b15fef857f"
      },
      "source": [
        "result = [[0,0,0],[0,0,0],[0,0,0]]\n",
        "\n",
        "for i in range(len(X)):\n",
        "  for j in range(len(X[0])):\n",
        "    result[i][j] =+ X[i][j]*X_1[j][i] \n",
        "for r in result:\n",
        "  print(r)    "
      ],
      "execution_count": null,
      "outputs": [
        {
          "output_type": "stream",
          "text": [
            "[145, 4, 63]\n",
            "[46, 9, 135]\n",
            "[483, 135, 16]\n"
          ],
          "name": "stdout"
        }
      ]
    },
    {
      "cell_type": "markdown",
      "metadata": {
        "id": "ROyf0IWLKVlp"
      },
      "source": [
        "Program to transpose a Matrix?"
      ]
    },
    {
      "cell_type": "code",
      "metadata": {
        "id": "vpmJcBM-HTyG",
        "colab": {
          "base_uri": "https://localhost:8080/"
        },
        "outputId": "3b5b35af-9979-41f9-f54f-05de74546e43"
      },
      "source": [
        "result = [[0,0,0],[0,0,0],[0,0,0]]\n",
        "\n",
        "for i in range(len(X)):\n",
        "  for j in range(len(X[0])):\n",
        "    result[i][j] = X[j][i]\n",
        "for r in result:\n",
        "  print(r)    "
      ],
      "execution_count": 3,
      "outputs": [
        {
          "output_type": "stream",
          "text": [
            "[1, 2, 21]\n",
            "[2, 3, 3]\n",
            "[3, 45, 4]\n"
          ],
          "name": "stdout"
        }
      ]
    },
    {
      "cell_type": "markdown",
      "metadata": {
        "id": "PzFnB-lcKrIY"
      },
      "source": [
        "Program to Sort Words in Alphabetic Order"
      ]
    },
    {
      "cell_type": "code",
      "metadata": {
        "colab": {
          "base_uri": "https://localhost:8080/"
        },
        "id": "C3JQwiNrNks8",
        "outputId": "04549c70-2bbe-483c-8f8f-8ef8f072e09b"
      },
      "source": [
        "stringo = input(\"enter a string\")\n",
        "words = stringo.split()\n",
        "words.sort()\n",
        "new= ' '.join(words)\n",
        "print(new)"
      ],
      "execution_count": 57,
      "outputs": [
        {
          "output_type": "stream",
          "text": [
            "enter a stringif you have a mix of capitalized words and lowercase words you could do this\n",
            "a and capitalized could do have if lowercase mix of this words words you you\n"
          ],
          "name": "stdout"
        }
      ]
    },
    {
      "cell_type": "markdown",
      "metadata": {
        "id": "K0KMAtabKsVL"
      },
      "source": [
        "Program to Remove Punctuation From a String"
      ]
    },
    {
      "cell_type": "code",
      "metadata": {
        "id": "-VjKR4KBIuPM"
      },
      "source": [
        "import string\n"
      ],
      "execution_count": 12,
      "outputs": []
    },
    {
      "cell_type": "code",
      "metadata": {
        "id": "ITJ1dzHSLEO8"
      },
      "source": [
        "res = string.punctuation"
      ],
      "execution_count": 13,
      "outputs": []
    },
    {
      "cell_type": "code",
      "metadata": {
        "id": "mmfZjIF7LKPp"
      },
      "source": [
        "res = list(res)"
      ],
      "execution_count": 15,
      "outputs": []
    },
    {
      "cell_type": "code",
      "metadata": {
        "colab": {
          "base_uri": "https://localhost:8080/"
        },
        "id": "t0iabRVrLLEc",
        "outputId": "82539f85-c216-44bd-de9b-8c356966236b"
      },
      "source": [
        "res"
      ],
      "execution_count": 16,
      "outputs": [
        {
          "output_type": "execute_result",
          "data": {
            "text/plain": [
              "['!',\n",
              " '\"',\n",
              " '#',\n",
              " '$',\n",
              " '%',\n",
              " '&',\n",
              " \"'\",\n",
              " '(',\n",
              " ')',\n",
              " '*',\n",
              " '+',\n",
              " ',',\n",
              " '-',\n",
              " '.',\n",
              " '/',\n",
              " ':',\n",
              " ';',\n",
              " '<',\n",
              " '=',\n",
              " '>',\n",
              " '?',\n",
              " '@',\n",
              " '[',\n",
              " '\\\\',\n",
              " ']',\n",
              " '^',\n",
              " '_',\n",
              " '`',\n",
              " '{',\n",
              " '|',\n",
              " '}',\n",
              " '~']"
            ]
          },
          "metadata": {
            "tags": []
          },
          "execution_count": 16
        }
      ]
    },
    {
      "cell_type": "code",
      "metadata": {
        "id": "LGIfmGV3LPow"
      },
      "source": [
        "for i in Strin:\n",
        "  if i in res:\n",
        "    Strin = Strin.remove(i)"
      ],
      "execution_count": 31,
      "outputs": []
    },
    {
      "cell_type": "code",
      "metadata": {
        "colab": {
          "base_uri": "https://localhost:8080/"
        },
        "id": "ctbHINw0LisM",
        "outputId": "7db2d10c-a60f-4fa7-9903-5b088d538983"
      },
      "source": [
        "print(Strin)   "
      ],
      "execution_count": 32,
      "outputs": [
        {
          "output_type": "stream",
          "text": [
            "dsfsh fefs  \n"
          ],
          "name": "stdout"
        }
      ]
    },
    {
      "cell_type": "code",
      "metadata": {
        "id": "JOaOEPcGM50t"
      },
      "source": [
        ""
      ],
      "execution_count": null,
      "outputs": []
    }
  ]
}