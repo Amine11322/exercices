{
  "nbformat": 4,
  "nbformat_minor": 0,
  "metadata": {
    "colab": {
      "name": "Assignement_1.ipynb",
      "provenance": []
    },
    "kernelspec": {
      "name": "python3",
      "display_name": "Python 3"
    }
  },
  "cells": [
    {
      "cell_type": "markdown",
      "metadata": {
        "id": "ZF-NPKOk7Qtl"
      },
      "source": [
        "1. What are the differences between operators and values in the following?\n",
        "*\n",
        "\n",
        "\n",
        "\n",
        "'hello'\n",
        "\n",
        "\n",
        "-87.8\n",
        "\n",
        "\n",
        "-\n",
        "\n",
        "\n",
        "/\n",
        "\n",
        "\n",
        "+\n",
        "\n",
        "\n",
        "6\n",
        "\n",
        "\n",
        "\n",
        "**Operators are the usual mathematical operations like addition, multiplication etc.., while values are constant numbers like 1,3,4...**\n",
        "2. What is the difference between string and variable?\n",
        "spam\n",
        "\n",
        "** String in a character written under quotations, while variable is a store of information where one can store different types of data such as Strings, integer values, booleans ....**\n",
        "'spam'\n",
        "\n",
        "3. Describe three different data forms.\n",
        "\n",
        "** There is a bunch of data types like : Numbers \"Integer values\". String \"Characters under quotation '' \". List \" Sequence of integer values for instance or characters under () \". Tuple \"Sequence of elements meaning finite ordered list of elements under {}\"**\n",
        "\n",
        "4. What makes up an expression? What are the functions of all expressions?\n",
        "\n",
        "**An expression is a combination of values, variables, operators, and calls to functions like: print('a character'+ str(12) +'something') Note that the expression has to be from the same gender meaning the same type otherwise convert it as I did with 12** \n",
        "\n",
        "\n",
        "5. In this chapter, assignment statements such as spam = 10 were added. What's the difference between a declaration and an expression?\n",
        "\n",
        "** A declaration is doing something,ie: action or command like functions as above \"Print\" or for instance assignements of variables**\n",
        "**An expression evaluates to a value as illustrated above**\n",
        "6. After running the following code, what does the variable bacon contain?\n",
        "\n",
        "**22**\n",
        "bacon = 22\n",
        "\n",
        "\n",
        "\n",
        "bacon + 1\n",
        "\n",
        "\n",
        "\n",
        "\n",
        "7. What should the values of the following two terms be?\n",
        "\n",
        "'spam' + 'spamspam'\n",
        "\n",
        "\n",
        "**'spamspamspam'**\n",
        "\n",
        "  'spam' * 3\n",
        "\n",
        "\n",
        "**'spamspamspam'**\n",
        "8. Why is it that eggs is a true variable name but 100 is not?\n",
        "**Because 100 is already stored to be an integer value**\n",
        "9. Which of the following three functions may be used to convert a value to an integer, a floating-point number, or a string?\n",
        "**int(), float(), str()**\n",
        "\n",
        "10. What is the error caused by this expression? What would you do about it?\n",
        "\n",
        "'I have eaten ' + 99 + ' burritos.'\n",
        "\n",
        "**convert 99 to string by str()**\n"
      ]
    },
    {
      "cell_type": "code",
      "metadata": {
        "id": "BxYT9r4n-e7O"
      },
      "source": [
        ""
      ],
      "execution_count": null,
      "outputs": []
    }
  ]
}