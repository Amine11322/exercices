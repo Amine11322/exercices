{
  "nbformat": 4,
  "nbformat_minor": 0,
  "metadata": {
    "colab": {
      "name": " Assignement_prog_1.ipynb",
      "provenance": [],
      "authorship_tag": "ABX9TyNp7r+ConltfYZpVM1QfoQ1",
      "include_colab_link": true
    },
    "kernelspec": {
      "name": "python3",
      "display_name": "Python 3"
    },
    "language_info": {
      "name": "python"
    }
  },
  "cells": [
    {
      "cell_type": "markdown",
      "metadata": {
        "id": "view-in-github",
        "colab_type": "text"
      },
      "source": [
        "<a href=\"https://colab.research.google.com/github/Amine11322/exercices/blob/main/Assignement_prog_1.ipynb\" target=\"_parent\"><img src=\"https://colab.research.google.com/assets/colab-badge.svg\" alt=\"Open In Colab\"/></a>"
      ]
    },
    {
      "cell_type": "markdown",
      "metadata": {
        "id": "mY0dC7qizAA4"
      },
      "source": [
        "1. Write a Python program to print &quot;Hello Python&quot;?\n",
        "2. Write a Python program to do arithmetical operations addition and division.?\n",
        "3. Write a Python program to find the area of a triangle?\n",
        "4. Write a Python program to swap two variables?\n",
        "5. Write a Python program to generate a random number?"
      ]
    },
    {
      "cell_type": "code",
      "metadata": {
        "colab": {
          "base_uri": "https://localhost:8080/"
        },
        "id": "gMl9QqI8zlIt",
        "outputId": "ad62780a-e669-4fba-fdf1-4af9b6d78f72"
      },
      "source": [
        "print('hello Python')"
      ],
      "execution_count": 1,
      "outputs": [
        {
          "output_type": "stream",
          "text": [
            "hello Python\n"
          ],
          "name": "stdout"
        }
      ]
    },
    {
      "cell_type": "code",
      "metadata": {
        "colab": {
          "base_uri": "https://localhost:8080/"
        },
        "id": "QZ0Fw-53y-c5",
        "outputId": "cc75762e-57b3-4a4e-9555-500af95a4b8b"
      },
      "source": [
        "#division and addition\n",
        "a = 500\n",
        "b = 505 \n",
        "d = a+b\n",
        "e = a/b\n",
        "print(\"The sum of a and b is \",d , \" The division of a and b is\", e )\n",
        "\n"
      ],
      "execution_count": 5,
      "outputs": [
        {
          "output_type": "stream",
          "text": [
            "The sum of a and b is  1005  The division of a and b is 0.9900990099009901\n"
          ],
          "name": "stdout"
        }
      ]
    },
    {
      "cell_type": "code",
      "metadata": {
        "colab": {
          "base_uri": "https://localhost:8080/"
        },
        "id": "rYJC4izqzSaB",
        "outputId": "8c51b436-ab1e-4929-c74e-3111f024fb0a"
      },
      "source": [
        "#area of triangle\n",
        "base = float(input(\"Enter the value for base of triangle=\"))\n",
        "height = float(input(\"Enter the value for height of the triangle=\"))\n",
        "area = 1/2*base*height\n",
        "print(\"The area of triangle is\", area)"
      ],
      "execution_count": 4,
      "outputs": [
        {
          "output_type": "stream",
          "text": [
            "Enter the value for base of triangle=3\n",
            "Enter the value for height of the triangle=4\n",
            "The area of triangle is 6.0\n"
          ],
          "name": "stdout"
        }
      ]
    },
    {
      "cell_type": "code",
      "metadata": {
        "colab": {
          "base_uri": "https://localhost:8080/"
        },
        "id": "xnsWMjlqzSes",
        "outputId": "16352378-5ad1-46b7-c7c5-972c186c1b74"
      },
      "source": [
        "#Write a Python program to swap two variables?\n",
        "first = int(input(\"Enter the first  number=\"))\n",
        "second =int(input(\"Enter the second  number=\"))\n",
        "temp = first\n",
        "first = second\n",
        "second = temp\n",
        "print (\"The swapped values are the  \",first , \"and\" ,second)"
      ],
      "execution_count": 3,
      "outputs": [
        {
          "output_type": "stream",
          "text": [
            "Enter the first  number=3\n",
            "Enter the second  number=4\n",
            "The swapped values are the   4 and 3\n"
          ],
          "name": "stdout"
        }
      ]
    },
    {
      "cell_type": "code",
      "metadata": {
        "colab": {
          "base_uri": "https://localhost:8080/"
        },
        "id": "Lc0VbYJ8zShV",
        "outputId": "7d3eda5c-887c-4396-c109-ae97f0569311"
      },
      "source": [
        "#Write a Python program to generate a random number?\n",
        "import random\n",
        "random.randint(0,1000)"
      ],
      "execution_count": 2,
      "outputs": [
        {
          "output_type": "execute_result",
          "data": {
            "text/plain": [
              "512"
            ]
          },
          "metadata": {
            "tags": []
          },
          "execution_count": 2
        }
      ]
    },
    {
      "cell_type": "code",
      "metadata": {
        "id": "s9be4E87zvOZ"
      },
      "source": [
        ""
      ],
      "execution_count": null,
      "outputs": []
    }
  ]
}