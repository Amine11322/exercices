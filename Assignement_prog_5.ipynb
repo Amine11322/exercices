{
  "nbformat": 4,
  "nbformat_minor": 0,
  "metadata": {
    "colab": {
      "name": "Assignement_prog_5.ipynb",
      "provenance": [],
      "authorship_tag": "ABX9TyM9Grg9+jUmUM4TiLzS+I1n",
      "include_colab_link": true
    },
    "kernelspec": {
      "name": "python3",
      "display_name": "Python 3"
    },
    "language_info": {
      "name": "python"
    }
  },
  "cells": [
    {
      "cell_type": "markdown",
      "metadata": {
        "id": "view-in-github",
        "colab_type": "text"
      },
      "source": [
        "<a href=\"https://colab.research.google.com/github/Amine11322/exercices/blob/main/Assignement_prog_5.ipynb\" target=\"_parent\"><img src=\"https://colab.research.google.com/assets/colab-badge.svg\" alt=\"Open In Colab\"/></a>"
      ]
    },
    {
      "cell_type": "markdown",
      "metadata": {
        "id": "23dufpNpfyPi"
      },
      "source": [
        "1. Write a Python Program to Find LCM?\n",
        "2. Write a Python Program to Find HCF?\n",
        "3. Write a Python Program to Convert Decimal to Binary, Octal and Hexadecimal?\n",
        "4. Write a Python Program To Find ASCII value of a character?\n",
        "5. Write a Python Program to Make a Simple Calculator with 4 basic mathematical operations?"
      ]
    },
    {
      "cell_type": "code",
      "metadata": {
        "id": "iU66WHEaf0cD"
      },
      "source": [
        "#1. Write a Python Program to Find LCM?\n",
        "greater = 0\n",
        "def lcm(x,y):\n",
        "  if x>y:\n",
        "     greater=x\n",
        "  else:\n",
        "    greater=y\n",
        "  while(True):\n",
        "    if ((greater %x ==0) and (greater%y ==0)):\n",
        "      lcm = greater\n",
        "      break\n",
        "    greater+=1\n",
        "  return lcm  \n"
      ],
      "execution_count": 10,
      "outputs": []
    },
    {
      "cell_type": "code",
      "metadata": {
        "colab": {
          "base_uri": "https://localhost:8080/"
        },
        "id": "OCLsEX8Kf0ez",
        "outputId": "c50884a2-b35c-47e4-cb1d-36c2eda3e6a5"
      },
      "source": [
        "lcm(14,50)"
      ],
      "execution_count": 11,
      "outputs": [
        {
          "output_type": "execute_result",
          "data": {
            "text/plain": [
              "350"
            ]
          },
          "metadata": {
            "tags": []
          },
          "execution_count": 11
        }
      ]
    },
    {
      "cell_type": "code",
      "metadata": {
        "colab": {
          "base_uri": "https://localhost:8080/"
        },
        "id": "R4LQ6P6pl0ie",
        "outputId": "9e9cdf27-9cba-49a6-dcbc-6ee15dc6f96f"
      },
      "source": [
        "# This function computes HCF \n",
        "def compute_HCF(x, y):\n",
        "\n",
        "   while(y):  ##repeat till the remainder is 0 \n",
        "       x, y = y, x % y  ##put the remainder in y and do the same till y is 0 then return x as gcd\n",
        "   return x\n",
        "compute_HCF(14,50)"
      ],
      "execution_count": 16,
      "outputs": [
        {
          "output_type": "execute_result",
          "data": {
            "text/plain": [
              "2"
            ]
          },
          "metadata": {
            "tags": []
          },
          "execution_count": 16
        }
      ]
    },
    {
      "cell_type": "code",
      "metadata": {
        "colab": {
          "base_uri": "https://localhost:8080/"
        },
        "id": "JiPFu8EXf0gi",
        "outputId": "dbc2d45b-52e1-4bf3-ea87-ce6d93713685"
      },
      "source": [
        "# Python Program to find the L.C.M. of two input number\n",
        "\n",
        "def compute_lcm(x, y):\n",
        "\n",
        "   # choose the greater number\n",
        "   if x > y:\n",
        "       greater = x\n",
        "   else:\n",
        "       greater = y\n",
        "\n",
        "   while(True):\n",
        "       if((greater % x == 0) and (greater % y == 0)):\n",
        "           lcm = greater\n",
        "           break\n",
        "       greater += 1\n",
        "\n",
        "   return lcm\n",
        "\n",
        "num1 = 54\n",
        "num2 = 24\n",
        "\n",
        "print(\"The L.C.M. is\", compute_lcm(num1, num2))"
      ],
      "execution_count": 7,
      "outputs": [
        {
          "output_type": "stream",
          "text": [
            "The L.C.M. is 216\n"
          ],
          "name": "stdout"
        }
      ]
    },
    {
      "cell_type": "code",
      "metadata": {
        "colab": {
          "base_uri": "https://localhost:8080/"
        },
        "id": "XEt5HF8Pf0jO",
        "outputId": "41c2a123-9bf7-443f-9973-2cd4500fc99a"
      },
      "source": [
        "#Program to Convert Decimal to Binary, Octal and Hexadecimal?\n",
        "\n",
        "num = int(input('enter a number'))\n",
        "type(num)\n",
        "print(bin(num))\n",
        "print(oct(num))\n",
        "print(hex(num))"
      ],
      "execution_count": 27,
      "outputs": [
        {
          "output_type": "stream",
          "text": [
            "enter a number23\n",
            "0b10111\n",
            "0o27\n",
            "0x17\n"
          ],
          "name": "stdout"
        }
      ]
    },
    {
      "cell_type": "code",
      "metadata": {
        "colab": {
          "base_uri": "https://localhost:8080/"
        },
        "id": "CmsheLd6rOWx",
        "outputId": "df0d6b25-0a01-4b7a-b537-b0c5e950d166"
      },
      "source": [
        "#Find ASCII value of a character?\n",
        "\n",
        "c ='g'\n",
        "ord(c) ##the ASCII value    "
      ],
      "execution_count": 29,
      "outputs": [
        {
          "output_type": "execute_result",
          "data": {
            "text/plain": [
              "103"
            ]
          },
          "metadata": {
            "tags": []
          },
          "execution_count": 29
        }
      ]
    },
    {
      "cell_type": "code",
      "metadata": {
        "colab": {
          "base_uri": "https://localhost:8080/",
          "height": 36
        },
        "id": "lQWk_oYgv6OY",
        "outputId": "8b5bc98c-dc84-4a96-fcc5-fa7fa30fd8ad"
      },
      "source": [
        "chr(103) #retrieve the character from a number"
      ],
      "execution_count": 30,
      "outputs": [
        {
          "output_type": "execute_result",
          "data": {
            "application/vnd.google.colaboratory.intrinsic+json": {
              "type": "string"
            },
            "text/plain": [
              "'g'"
            ]
          },
          "metadata": {
            "tags": []
          },
          "execution_count": 30
        }
      ]
    },
    {
      "cell_type": "code",
      "metadata": {
        "colab": {
          "base_uri": "https://localhost:8080/"
        },
        "id": "TGNKDtNPwSIu",
        "outputId": "3159a59e-c552-4f30-b5fc-7d2ffa31b60d"
      },
      "source": [
        "# Program make a simple calculator\n",
        "\n",
        "# This function adds two numbers\n",
        "def add(x, y):\n",
        "    return x + y\n",
        "\n",
        "# This function subtracts two numbers\n",
        "def subtract(x, y):\n",
        "    return x - y\n",
        "\n",
        "# This function multiplies two numbers\n",
        "def multiply(x, y):\n",
        "    return x * y\n",
        "\n",
        "# This function divides two numbers\n",
        "def divide(x, y):\n",
        "    return x / y\n",
        "\n",
        "\n",
        "print(\"Select operation.\")\n",
        "print(\"1.Add\")\n",
        "print(\"2.Subtract\")\n",
        "print(\"3.Multiply\")\n",
        "print(\"4.Divide\")\n"
      ],
      "execution_count": 32,
      "outputs": [
        {
          "output_type": "stream",
          "text": [
            "Select operation.\n",
            "1.Add\n",
            "2.Subtract\n",
            "3.Multiply\n",
            "4.Divide\n"
          ],
          "name": "stdout"
        }
      ]
    },
    {
      "cell_type": "code",
      "metadata": {
        "colab": {
          "base_uri": "https://localhost:8080/"
        },
        "id": "MTnI-kDmxQYW",
        "outputId": "94c6bf32-ba11-45b1-d1c5-de0861514d4c"
      },
      "source": [
        "choice = input(\"Enter choice(1/2/3/4): \")\n",
        "if choice in ('1', '2', '3', '4'):\n",
        "    num1 = float(input(\"Enter first number: \"))\n",
        "    num2 = float(input(\"Enter second number: \"))"
      ],
      "execution_count": 34,
      "outputs": [
        {
          "output_type": "stream",
          "text": [
            "Enter choice(1/2/3/4): 1\n",
            "Enter first number: 12\n",
            "Enter second number: 3\n"
          ],
          "name": "stdout"
        }
      ]
    },
    {
      "cell_type": "code",
      "metadata": {
        "colab": {
          "base_uri": "https://localhost:8080/"
        },
        "id": "0ENyQE5TxQa_",
        "outputId": "72e22546-0369-49e6-f47a-75775891ee66"
      },
      "source": [
        "if choice == '1':\n",
        "  print(num1, \"+\", num2, \"=\", add(num1, num2))\n",
        "\n",
        "elif choice == '2':\n",
        "  print(num1, \"-\", num2, \"=\", subtract(num1, num2))\n",
        "\n",
        "elif choice == '3':\n",
        "  print(num1, \"*\", num2, \"=\", multiply(num1, num2))\n",
        "\n",
        "elif choice == '4':\n",
        "  print(num1, \"/\", num2, \"=\", divide(num1, num2))"
      ],
      "execution_count": 36,
      "outputs": [
        {
          "output_type": "stream",
          "text": [
            "12.0 + 3.0 = 15.0\n"
          ],
          "name": "stdout"
        }
      ]
    }
  ]
}