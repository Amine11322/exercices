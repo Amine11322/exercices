{
  "nbformat": 4,
  "nbformat_minor": 0,
  "metadata": {
    "colab": {
      "name": "Assignement_2.ipynb",
      "provenance": [],
      "authorship_tag": "ABX9TyOS0gaMRJPiFsNwrEeFEh+o",
      "include_colab_link": true
    },
    "kernelspec": {
      "name": "python3",
      "display_name": "Python 3"
    }
  },
  "cells": [
    {
      "cell_type": "markdown",
      "metadata": {
        "id": "view-in-github",
        "colab_type": "text"
      },
      "source": [
        "<a href=\"https://colab.research.google.com/github/Amine11322/exercices/blob/main/Assignement_2.ipynb\" target=\"_parent\"><img src=\"https://colab.research.google.com/assets/colab-badge.svg\" alt=\"Open In Colab\"/></a>"
      ]
    },
    {
      "cell_type": "markdown",
      "metadata": {
        "id": "SN9L-AcAzdgS"
      },
      "source": [
        "1. Write a Python program to convert kilometers to miles?\n",
        "2. Write a Python program to convert Celsius to Fahrenheit?\n",
        "3. Write a Python program to display calendar?\n",
        "4. Write a Python program to solve quadratic equation?\n",
        "5. Write a Python program to swap two variables without temp variable?"
      ]
    },
    {
      "cell_type": "code",
      "metadata": {
        "id": "YHalaAvL4TKA"
      },
      "source": [
        "import calendar"
      ],
      "execution_count": 30,
      "outputs": []
    },
    {
      "cell_type": "code",
      "metadata": {
        "colab": {
          "base_uri": "https://localhost:8080/"
        },
        "id": "cmrALdW54U8Y",
        "outputId": "8c4297b4-d824-43ad-b5b4-bc7fb1c05b7e"
      },
      "source": [
        "year = int(input(\"enter \"))\n",
        "month = int(input(\"enter \"))\n",
        "print(calendar.month(year,month))"
      ],
      "execution_count": 34,
      "outputs": [
        {
          "output_type": "stream",
          "text": [
            "enter 2021\n",
            "enter 3\n",
            "     March 2021\n",
            "Mo Tu We Th Fr Sa Su\n",
            " 1  2  3  4  5  6  7\n",
            " 8  9 10 11 12 13 14\n",
            "15 16 17 18 19 20 21\n",
            "22 23 24 25 26 27 28\n",
            "29 30 31\n",
            "\n"
          ],
          "name": "stdout"
        }
      ]
    },
    {
      "cell_type": "code",
      "metadata": {
        "id": "Hr3Ee6I733_p"
      },
      "source": [
        "def fahren(T):\n",
        "  return (T * (9/5)) + 32 "
      ],
      "execution_count": 28,
      "outputs": []
    },
    {
      "cell_type": "code",
      "metadata": {
        "id": "u9OY4M_Fz9ya"
      },
      "source": [
        "def mile(n):\n",
        "  return (n*5)/8"
      ],
      "execution_count": 3,
      "outputs": []
    },
    {
      "cell_type": "code",
      "metadata": {
        "colab": {
          "base_uri": "https://localhost:8080/"
        },
        "id": "zrbStP4o0E-x",
        "outputId": "9a0e7ec9-3df2-442b-9283-00b80b9b1039"
      },
      "source": [
        "mile(100)"
      ],
      "execution_count": 4,
      "outputs": [
        {
          "output_type": "execute_result",
          "data": {
            "text/plain": [
              "62.5"
            ]
          },
          "metadata": {
            "tags": []
          },
          "execution_count": 4
        }
      ]
    },
    {
      "cell_type": "code",
      "metadata": {
        "colab": {
          "base_uri": "https://localhost:8080/"
        },
        "id": "e4kYXpzC0HLf",
        "outputId": "1d6a32d0-733d-4b89-91cd-db7007477734"
      },
      "source": [
        "a = float(input(\"enter a coeff\"))\n",
        "b = float(input(\"enter a coeff\"))\n",
        "a,b = b,a"
      ],
      "execution_count": 25,
      "outputs": [
        {
          "output_type": "stream",
          "text": [
            "enter a coeff4\n",
            "enter a coeff5\n"
          ],
          "name": "stdout"
        }
      ]
    },
    {
      "cell_type": "code",
      "metadata": {
        "colab": {
          "base_uri": "https://localhost:8080/"
        },
        "id": "XWGjxSWc0oO8",
        "outputId": "ad4c18fc-f643-468c-e6d4-ec41acc08ea4"
      },
      "source": [
        "b\n"
      ],
      "execution_count": 26,
      "outputs": [
        {
          "output_type": "execute_result",
          "data": {
            "text/plain": [
              "4.0"
            ]
          },
          "metadata": {
            "tags": []
          },
          "execution_count": 26
        }
      ]
    },
    {
      "cell_type": "code",
      "metadata": {
        "colab": {
          "base_uri": "https://localhost:8080/"
        },
        "id": "_5dHgMzL0pCH",
        "outputId": "12dd58ed-1d96-4f89-c886-59eeec4a236e"
      },
      "source": [
        "a"
      ],
      "execution_count": 27,
      "outputs": [
        {
          "output_type": "execute_result",
          "data": {
            "text/plain": [
              "5.0"
            ]
          },
          "metadata": {
            "tags": []
          },
          "execution_count": 27
        }
      ]
    },
    {
      "cell_type": "code",
      "metadata": {
        "colab": {
          "base_uri": "https://localhost:8080/"
        },
        "id": "HWSpiHkW141h",
        "outputId": "1156e50e-72aa-409e-aa70-d1df56731f32"
      },
      "source": [
        "import cmath \n",
        "a = float(input(\"enter a coeff\"))\n",
        "b = float(input(\"enter a coeff\"))\n",
        "c = float(input(\"enter a coeff\"))\n",
        "delta = b*b-4 *a*c\n",
        "s1 = (-b + cmath.sqrt(delta)) / 2*a\n",
        "s2 =(-b - cmath.sqrt(delta)) / 2*a\n",
        "print(\"the solutions are {} and {}\".format(s1,s2))"
      ],
      "execution_count": 19,
      "outputs": [
        {
          "output_type": "stream",
          "text": [
            "enter a coeff1\n",
            "enter a coeff2\n",
            "enter a coeff3\n",
            "the solutions are (-1+1.4142135623730951j) and (-1-1.4142135623730951j)\n"
          ],
          "name": "stdout"
        }
      ]
    },
    {
      "cell_type": "code",
      "metadata": {
        "id": "WgmQIV2i2IyQ"
      },
      "source": [
        ""
      ],
      "execution_count": null,
      "outputs": []
    }
  ]
}