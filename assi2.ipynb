 "colab": {
      "name": "Assignement_2.ipynb",
      "provenance": [],
      "authorship_tag": "ABX9TyMudWUQz04twyKU/6cwzVLV",
      "collapsed_sections": [],
      "authorship_tag": "ABX9TyNpH6MNHiTJCAq7cvu8FkNP",
      "include_colab_link": true
    },
    "kernelspec": {
@@ -24,17 +25,6 @@
        "<a href=\"https://colab.research.google.com/github/Amine11322/exercices/blob/main/Assignement_2.ipynb\" target=\"_parent\"><img src=\"https://colab.research.google.com/assets/colab-badge.svg\" alt=\"Open In Colab\"/></a>"
      ]
    },
    {
      "cell_type": "code",
      "metadata": {
        "id": "CXBcohAPZ0qO"
      },
      "source": [
        "h"
      ],
      "execution_count": null,
      "outputs": []
    },
    {
      "cell_type": "markdown",
      "metadata": {
@@ -84,10 +74,19 @@
        "**True**\n",
        "5. What are the six different types of reference operators?\n",
        "\n",
        "6. How do you tell the difference between the equal to and assignment operators?\n",
        "    **Arithmetic Operators.\n",
        "    Bitwise Operators.\n",
        "    Membership Operators.\n",
        "    Identity Operators.\n",
        "    Comparison Operators.\n",
        "    Assignment Operators.\n",
        "    Logical Operators. **\n",
        "\n",
        "7. Describe a condition and when you would use one.\n",
        "\n",
        "6. How do you tell the difference between the equal to and assignment operators?\n",
        "**Equal is == and assignement is =**\n",
        "7. Describe a condition and when you would use one.\n",
        "**An example of a condition is if statement it allows us to check conditions in a certain then execute a certain command**\n",
        "\n",
        "\n",
        "8. Recognize the following three blocks in this code:\n",
@@ -105,7 +104,7 @@
        "print('spam')\n",
        "```\n",
        "\n",
        "\n",
        "**First you have a variable assignement 'spam' then an IF statement and print commands**\n",
        "\n",
        "\n",
        "\n",
@@ -114,7 +113,7 @@
        "\n",
        "\n",
        "```\n",
        "spam = enter a value like 0 \n",
        "spam =  0 \n",
        "if spam ==1:\n",
        "  print('hello')\n",
        "if spam==2:\n",
@@ -128,92 +127,31 @@
        "\n",
        "10.If your programme is stuck in an endless loop, what keys can you press?\n",
        "\n",
        "**By Break**\n",
        "11. How can you tell the difference between break and continue?\n",
        "\n",
        "\n",
        "**Break terminates immediately the loop while continue terminates only the interation then starts over again**\n",
        "\n",
        "12. In a for loop, what is the difference between range(10), range(0, 10), and range(0, 10, 1)?\n",
        "\n",
        "13. Using a for loop, write a short programme that prints the numbers 1 to 10 Then, using a while loop, create an identical programme that prints the numbers 1 to 10.\n",
        "\n",
        "\n",
        "\n",
        "14. If you had a bacon() function within a spam module, how  would you call it after importing spam?\n"
      ]
    },
    {
      "cell_type": "code",
      "metadata": {
        "colab": {
          "base_uri": "https://localhost:8080/"
        },
        "id": "8VQ9Uh6OcIXq",
        "outputId": "8830d16b-6287-42e5-8512-8dd6732da558"
      },
      "source": [
        "spam = 5\n",
        "if spam == 10:\n",
        " \n",
        "    print('eggs')\n",
        "    if spam > 5:\n",
        "        print('bacon')\n",
        "    else:\n",
        "        print('ham')\n",
        "    print('spam')\n",
        "print('spam')"
      ],
      "execution_count": 18,
      "outputs": [
        {
          "output_type": "stream",
          "text": [
            "spam\n"
          ],
          "name": "stdout"
        }
      ]
    },
    {
      "cell_type": "code",
      "metadata": {
        "colab": {
          "base_uri": "https://localhost:8080/"
        },
        "id": "qG35ajN6cfjc",
        "outputId": "4dd53659-977a-4763-e9ac-9f9e5d895ba9"
      },
      "source": [
        "spam = 0\n",
        "if spam ==1:\n",
        "  print('hello')\n",
        "if spam==2:\n",
        "  print('howdy')\n",
        "if spam==3:\n",
        "  print('Salutations') \n",
        "else:\n",
        "    print('spam')"
      ],
      "execution_count": 15,
      "outputs": [
        {
          "output_type": "stream",
          "text": [
            "spam\n"
          ],
          "name": "stdout"
        }
        "```\n",
        "i = 1\n",
        "while(i<=10):\n",
        "    print(i)\n",
        "    i += 1\n",
        "#and\n",
        "for i in range(1, 11):\n",
        "  print(i)\n",
        "    ```\n",
        "\n",
        "\n",
        "14. If you had a bacon() function within a spam module, how  would you call it after importing spam?\n",
        "**first you import the module the call it using spam.bacon()**"
      ]
    },
    {
      "cell_type": "code",
      "metadata": {
        "id": "4d9i-vdmdfz7"
      },
      "source": [
        ""
      ],
      "execution_count": null,
      "outputs": []
    }
  ]
} 
